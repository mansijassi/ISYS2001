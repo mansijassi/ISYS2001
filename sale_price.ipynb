{
  "nbformat": 4,
  "nbformat_minor": 0,
  "metadata": {
    "colab": {
      "name": "sale_price.ipynb",
      "provenance": [],
      "include_colab_link": true
    },
    "kernelspec": {
      "name": "python3",
      "display_name": "Python 3"
    },
    "language_info": {
      "name": "python"
    }
  },
  "cells": [
    {
      "cell_type": "markdown",
      "metadata": {
        "id": "view-in-github",
        "colab_type": "text"
      },
      "source": [
        "<a href=\"https://colab.research.google.com/github/mansijassi/ISYS2001/blob/main/sale_price.ipynb\" target=\"_parent\"><img src=\"https://colab.research.google.com/assets/colab-badge.svg\" alt=\"Open In Colab\"/></a>"
      ]
    },
    {
      "cell_type": "markdown",
      "metadata": {
        "id": "cgTeiXOtSPjH"
      },
      "source": [
        "# Sales Price\n",
        "\n",
        "A local department store needs to develop a program that will computer the total price (including goods and services tax) of the item on sale when given an item's original price and discount percentage.\n",
        "\n",
        "## Tasks\n",
        "* Save to Github\n",
        "* Design Algorithm\n",
        "* Write and test the program in Python"
      ]
    },
    {
      "cell_type": "code",
      "metadata": {
        "id": "pPIN2ZcrSqdw",
        "colab": {
          "base_uri": "https://localhost:8080/"
        },
        "outputId": "57cde2a4-50b5-4a14-d67a-bcd4b73cd2eb"
      },
      "source": [
        "def calculate_total_price(original_price, discount_percentage, tax_rate):\n",
        "    discount_amount = original_price * (discount_percentage / 100)\n",
        "    discounted_price = original_price - discount_amount\n",
        "    tax_amount = discounted_price * (tax_rate / 100)\n",
        "    total_price = discounted_price + tax_amount\n",
        "    return total_price\n",
        "\n",
        "def main():\n",
        "    original_price = float(input(\"Enter the original price of the item: \"))\n",
        "    discount_percentage = float(input(\"Enter the discount percentage: \"))\n",
        "    tax_rate = float(input(\"Enter the tax rate (in percentage): \"))\n",
        "\n",
        "    total_price = calculate_total_price(original_price, discount_percentage, tax_rate)\n",
        "    print(\"Total price (including tax) after discount: $\", total_price)\n",
        "\n",
        "if __name__ == \"__main__\":\n",
        "  main()\n"
      ],
      "execution_count": 19,
      "outputs": [
        {
          "output_type": "stream",
          "name": "stdout",
          "text": [
            "Enter the original price of the item: 600\n",
            "Enter the discount percentage: 3\n",
            "Enter the tax rate (in percentage): 2\n",
            "Total price (including tax) after discount: $ 593.64\n"
          ]
        }
      ]
    }
  ]
}