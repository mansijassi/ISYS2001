{
  "nbformat": 4,
  "nbformat_minor": 0,
  "metadata": {
    "colab": {
      "provenance": [],
      "authorship_tag": "ABX9TyMBPsw9O8c2SQz3ug2SJqMX",
      "include_colab_link": true
    },
    "kernelspec": {
      "name": "python3",
      "display_name": "Python 3"
    },
    "language_info": {
      "name": "python"
    }
  },
  "cells": [
    {
      "cell_type": "markdown",
      "metadata": {
        "id": "view-in-github",
        "colab_type": "text"
      },
      "source": [
        "<a href=\"https://colab.research.google.com/github/mansijassi/ISYS2001/blob/main/DMOJ_Data_Plan.ipynb\" target=\"_parent\"><img src=\"https://colab.research.google.com/assets/colab-badge.svg\" alt=\"Open In Colab\"/></a>"
      ]
    },
    {
      "cell_type": "code",
      "execution_count": 11,
      "metadata": {
        "colab": {
          "base_uri": "https://localhost:8080/"
        },
        "id": "Md1eh4RPCn0O",
        "outputId": "efa0e686-dbed-4c79-a107-07288b8caf5f"
      },
      "outputs": [
        {
          "output_type": "stream",
          "name": "stdout",
          "text": [
            "10\n",
            "3\n",
            "4\n",
            "6\n",
            "2\n",
            "28\n"
          ]
        }
      ],
      "source": [
        "# input:\n",
        "# 10\n",
        "# 3\n",
        "# 4\n",
        "# 6\n",
        "# 2\n",
        "mb = int(input())\n",
        "excess = 0\n",
        "months = int(input())\n",
        "for m in range(months):\n",
        "  usage = int(input())\n",
        "  excess = excess + mb - usage\n",
        "\n",
        "print(excess + mb)\n",
        "\n"
      ]
    },
    {
      "cell_type": "code",
      "source": [
        "mb = int(input())\n",
        "months = int(input())\n",
        "total_mb = mb * (months +1)\n",
        "for m in range(months):\n",
        "  usage = int(input())\n",
        "  total_mb = total_mb - usage\n",
        "\n",
        "print(total_mb)"
      ],
      "metadata": {
        "colab": {
          "base_uri": "https://localhost:8080/"
        },
        "id": "5dWwBM0EKPJJ",
        "outputId": "9c086976-8fb3-40c1-8cec-caa1fca70330"
      },
      "execution_count": 12,
      "outputs": [
        {
          "output_type": "stream",
          "name": "stdout",
          "text": [
            "10\n",
            "3\n",
            "4\n",
            "6\n",
            "2\n",
            "28\n"
          ]
        }
      ]
    }
  ]
}