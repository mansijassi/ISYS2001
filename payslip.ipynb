{
  "cells": [
    {
      "cell_type": "markdown",
      "metadata": {
        "id": "view-in-github",
        "colab_type": "text"
      },
      "source": [
        "<a href=\"https://colab.research.google.com/github/mansijassi/ISYS2001/blob/main/payslip.ipynb\" target=\"_parent\"><img src=\"https://colab.research.google.com/assets/colab-badge.svg\" alt=\"Open In Colab\"/></a>"
      ]
    },
    {
      "cell_type": "markdown",
      "metadata": {
        "id": "kF8ldRydTDPx"
      },
      "source": [
        "# Payslip\n",
        "\n",
        "A payslip is a document that shows their total wages earned for a set period.\n",
        "This might be from a salary, hourly wages or commission. Payslips are also know as\n",
        "‘pay advice’.  Traditionally the payslip was a paper document attached. Today\n",
        "most organisations provide them electronically.\n",
        "\n",
        "## Task 0 - Import into GitHub\n",
        "First, import the notebook into Colab and save an initial copy to GitHub.\n",
        "\n",
        "## Task 1 - Start Simple\n",
        "\n",
        "Writing complete robust programs can take time.  Often the more we understand a\n",
        "problem the easier it is to implement the solution.   One approach is to\n",
        "implement the simplest version of a program and then slowly add functionality.\n",
        "\n",
        "The aim of this notebook is to start simple and slowly build up the program.\n",
        "The approach we take below is one way to understand a problem, step 1 of our\n",
        "development process. For complex projects, they often follow a similar idea\n",
        "where they implement a minimal program, and each week or month have intense\n",
        "periods were the team adds functionality.  These advanced methodologies are\n",
        "beyond the scope of an introductory programming course but start small and\n",
        "slowly add functionality we do capture the essence of the process.\n",
        "\n",
        "\n",
        "### The Initial (minimal) Program\n",
        "\n",
        "Consider 'Ram' who has a salary of \\$25000.  They have sold goods worth $20000\n",
        "and earns 2% commission on the sales. They fall into the 10% tax bracket. We\n",
        "will talk about tax-brackets in another notebook. Before making payments the\n",
        "organisation needs to deduct 10% tax.\n",
        "\n",
        "We need to program to print out a payslip for sales people.  Our payslip\n",
        "is very simple, we need a title, the amount of salary, the amount of commission,\n",
        "the amount of tax, and the total pay.\n",
        "\n",
        "Run the following program for one person."
      ]
    },
    {
      "cell_type": "markdown",
      "source": [],
      "metadata": {
        "id": "nWd6KG-cWhId"
      }
    },
    {
      "cell_type": "code",
      "execution_count": 49,
      "metadata": {
        "colab": {
          "base_uri": "https://localhost:8080/"
        },
        "id": "2UenEHfcTuLz",
        "outputId": "b8401031-3f8e-466f-a4a7-33f75ccc72c4"
      },
      "outputs": [
        {
          "output_type": "stream",
          "name": "stdout",
          "text": [
            "Payslip of Ram\n",
            "Salary 25000 Commission 400.0 Tax 2540.0\n",
            "Total pay 22860.0\n"
          ]
        }
      ],
      "source": [
        "salary = 25000\n",
        "sales = 20000\n",
        "commission = 0.02 * sales\n",
        "tax = (salary + commission) * 0.10\n",
        "pay = salary + commission - tax\n",
        "print('Payslip of Ram')\n",
        "print('Salary', salary,'Commission',commission,'Tax', tax)\n",
        "print('Total pay',pay)"
      ]
    },
    {
      "cell_type": "markdown",
      "metadata": {
        "id": "QzcJGzRBUDz2"
      },
      "source": [
        "Now, consider 'Radha' who has a salary of \\$30000.  They have sold goods worth $40000 and earns 2.5% commision on the sales. They fall into the 10% tax bracket and so before making payments we need to deduct 10% form his total payout."
      ]
    },
    {
      "cell_type": "code",
      "execution_count": 50,
      "metadata": {
        "id": "wFmuD9ujUgDW",
        "colab": {
          "base_uri": "https://localhost:8080/"
        },
        "outputId": "e0d1bea2-c1b2-456a-ee15-d097cb379db9"
      },
      "outputs": [
        {
          "output_type": "stream",
          "name": "stdout",
          "text": [
            "Payslip of Radha\n",
            "Salary 30000 Commission 1000.0 Tax 3100.0\n",
            "Total Pay 27900.0\n"
          ]
        }
      ],
      "source": [
        "salary = 30000\n",
        "sales = 40000\n",
        "commission = 0.025 * sales\n",
        "tax = (salary + commission) * 0.10\n",
        "pay = salary + commission - tax\n",
        "print(\"Payslip of Radha\")\n",
        "print(\"Salary\", salary, \"Commission\", commission, \"Tax\", tax)\n",
        "print(\"Total Pay\",pay)\n"
      ]
    },
    {
      "cell_type": "code",
      "source": [],
      "metadata": {
        "id": "Gc5VIilHiMVy"
      },
      "execution_count": null,
      "outputs": []
    },
    {
      "cell_type": "markdown",
      "metadata": {
        "id": "UFGObxq7UlvE"
      },
      "source": [
        "## Task 2 - Generalise\n",
        "\n",
        "What did we change from Ram to Radha?"
      ]
    },
    {
      "cell_type": "markdown",
      "source": [
        "I changed the title so that that it showed Radha's payslip. Additionally, I changed the salary to $30,000.\n",
        "\n",
        "\n",
        "I changed the sales to $40,000 and the commission rate changed to 2.5%.\n",
        "\n",
        "The tax deducted remained the constant, 10%.\n"
      ],
      "metadata": {
        "id": "g2DNCitqWi-n"
      }
    },
    {
      "cell_type": "code",
      "execution_count": null,
      "metadata": {
        "id": "zMEi9q1dUr36"
      },
      "outputs": [],
      "source": [
        "\n"
      ]
    },
    {
      "cell_type": "markdown",
      "source": [],
      "metadata": {
        "id": "pWs2bELUWaxn"
      }
    },
    {
      "cell_type": "markdown",
      "metadata": {
        "id": "7PrlmDmYV6iX"
      },
      "source": [
        "Make what we changed as inputs (parameters) to a function"
      ]
    },
    {
      "cell_type": "code",
      "execution_count": 51,
      "metadata": {
        "id": "cJwgf8nZWDF6",
        "colab": {
          "base_uri": "https://localhost:8080/"
        },
        "outputId": "9dbabd24-e026-4580-c51d-da4ffcb9fb01"
      },
      "outputs": [
        {
          "output_type": "stream",
          "name": "stdout",
          "text": [
            "Enter your Name here: Mansi \n",
            "What is the Commission Rate? 0.03\n",
            "What are the Sales? 60000\n",
            "What is the Tax Rate? 0.10\n",
            "What is your Salary? 90000\n",
            "Payslip of  Mansi \n",
            "Salary: 90000.0\n",
            "Commission: 1800.0\n",
            "Tax: 9180.0\n",
            "Total Pay: 82620.0\n"
          ]
        }
      ],
      "source": [
        "name = input(\"Enter your Name here: \")\n",
        "commission_rate = float(input(\"What is the Commission Rate? \"))\n",
        "sales = int(input(\"What are the Sales? \"))\n",
        "commission = commission_rate * sales\n",
        "tax_rate = float(input(\"What is the Tax Rate? \"))\n",
        "salary = float(input(\"What is your Salary? \"))\n",
        "tax = (salary + commission) * tax_rate\n",
        "pay = salary + commission - tax\n",
        "\n",
        "print(\"Payslip of \", name)\n",
        "print(\"Salary:\", salary)\n",
        "print(\"Commission:\", commission)\n",
        "print(\"Tax:\", tax)\n",
        "print(\"Total Pay:\", pay)\n",
        "\n",
        "\n"
      ]
    },
    {
      "source": [],
      "cell_type": "code",
      "metadata": {
        "id": "uCcfYEp0b3jw"
      },
      "execution_count": null,
      "outputs": []
    }
  ],
  "metadata": {
    "colab": {
      "provenance": [],
      "include_colab_link": true
    },
    "kernelspec": {
      "display_name": "Python 3",
      "name": "python3"
    },
    "language_info": {
      "name": "python"
    }
  },
  "nbformat": 4,
  "nbformat_minor": 0
}